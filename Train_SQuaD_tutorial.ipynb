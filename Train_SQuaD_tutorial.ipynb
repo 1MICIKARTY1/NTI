{
  "nbformat": 4,
  "nbformat_minor": 0,
  "metadata": {
    "colab": {
      "name": "Train_SQuaD_tutorial.ipynb",
      "provenance": [],
      "collapsed_sections": [],
      "authorship_tag": "ABX9TyMCsZgSXg/y7JzvLO/00d4D",
      "include_colab_link": true
    },
    "kernelspec": {
      "name": "python3",
      "display_name": "Python 3"
    }
  },
  "cells": [
    {
      "cell_type": "markdown",
      "metadata": {
        "id": "view-in-github",
        "colab_type": "text"
      },
      "source": [
        "<a href=\"https://colab.research.google.com/github/AI-Front/NTI/blob/main/Train_SQuaD_tutorial.ipynb\" target=\"_parent\"><img src=\"https://colab.research.google.com/assets/colab-badge.svg\" alt=\"Open In Colab\"/></a>"
      ]
    },
    {
      "cell_type": "markdown",
      "metadata": {
        "id": "rlDeQjMgVXMK"
      },
      "source": [
        "# SQuAD System for English\n",
        "\n",
        "**S**tanford **Q**uestion **A**nswering **D**ataset (SQuAD) is a reading comprehension dataset, consisting of questions posed by crowdworkers on a set of Wikipedia articles, where the answer to every question is a segment of text, or span, from the corresponding reading passage, or the question might be unanswerable.\n",
        "\n",
        "SQuAD2.0 combines the 100,000 questions in SQuAD1.1 with over 50,000 unanswerable questions written adversarially by crowdworkers to look similar to answerable ones. To do well on SQuAD2.0, systems must not only answer questions when possible, but also determine when no answer is supported by the paragraph and abstain from answering.\n",
        "\n",
        "The [Dataset](https://rajpurkar.github.io/SQuAD-explorer/explore/v2.0/dev/)\n",
        "\n",
        "The [Paper](http://arxiv.org/abs/1806.03822)\n",
        "\n",
        "Example:\n",
        "![squad_example.png](https://github.com/AI-Front/ChatBots/blob/master/4-Question_Answering/squad_example.png?raw=1)\n",
        "\n"
      ]
    },
    {
      "cell_type": "markdown",
      "metadata": {
        "id": "bE3x2mhJX7gu"
      },
      "source": [
        "The systems that can be used for that are listed on the official [Leaderboard](https://rajpurkar.github.io/SQuAD-explorer/) with human level of 89.4 F1 score\n",
        "\n",
        "We are going to use [DeepPavlov SQuAD model](http://docs.deeppavlov.ai/en/master/features/models/squad.html#pretrained-models) based on BERT, achieving 88.4 F1 score. \n",
        "\n",
        "Dealing with SQuAD model includes:\n",
        "\n",
        "0. Model installation and interaction with the pretrained model\n",
        "0. Training the model on your own data\n",
        "0. Skill example "
      ]
    },
    {
      "cell_type": "markdown",
      "metadata": {
        "id": "DzKeyDhTb6G-"
      },
      "source": [
        "# Model installation and interaction"
      ]
    },
    {
      "cell_type": "code",
      "metadata": {
        "id": "CRfSLRkpC0hn",
        "colab": {
          "base_uri": "https://localhost:8080/"
        },
        "outputId": "83fea2ed-e8b2-469a-99b3-0e26f3325635"
      },
      "source": [
        "%tensorflow_version 1.14\n",
        "\n"
      ],
      "execution_count": 1,
      "outputs": [
        {
          "output_type": "stream",
          "text": [
            "`%tensorflow_version` only switches the major version: 1.x or 2.x.\n",
            "You set: `1.14`. This will be interpreted as: `1.x`.\n",
            "\n",
            "\n",
            "TensorFlow 1.x selected.\n"
          ],
          "name": "stdout"
        }
      ]
    },
    {
      "cell_type": "code",
      "metadata": {
        "id": "2R1Z9_GoQwX_",
        "colab": {
          "base_uri": "https://localhost:8080/"
        },
        "outputId": "cb085adc-4127-46f7-8f5f-bd3be5669c88"
      },
      "source": [
        "!pip install deeppavlov\n",
        "!python -m deeppavlov install squad_ru"
      ],
      "execution_count": 2,
      "outputs": [
        {
          "output_type": "stream",
          "text": [
            "Requirement already satisfied: deeppavlov in /usr/local/lib/python3.6/dist-packages (0.14.0)\n",
            "Requirement already satisfied: pytelegrambotapi==3.6.7 in /usr/local/lib/python3.6/dist-packages (from deeppavlov) (3.6.7)\n",
            "Requirement already satisfied: fastapi==0.47.1 in /usr/local/lib/python3.6/dist-packages (from deeppavlov) (0.47.1)\n",
            "Requirement already satisfied: pytz==2019.1 in /usr/local/lib/python3.6/dist-packages (from deeppavlov) (2019.1)\n",
            "Requirement already satisfied: Cython==0.29.14 in /usr/local/lib/python3.6/dist-packages (from deeppavlov) (0.29.14)\n",
            "Requirement already satisfied: h5py==2.10.0 in /usr/local/lib/python3.6/dist-packages (from deeppavlov) (2.10.0)\n",
            "Requirement already satisfied: click==7.1.2 in /usr/local/lib/python3.6/dist-packages (from deeppavlov) (7.1.2)\n",
            "Requirement already satisfied: prometheus-client==0.7.1 in /usr/local/lib/python3.6/dist-packages (from deeppavlov) (0.7.1)\n",
            "Requirement already satisfied: scipy==1.4.1 in /usr/local/lib/python3.6/dist-packages (from deeppavlov) (1.4.1)\n",
            "Requirement already satisfied: nltk==3.4.5 in /usr/local/lib/python3.6/dist-packages (from deeppavlov) (3.4.5)\n",
            "Requirement already satisfied: ruamel.yaml==0.15.100 in /usr/local/lib/python3.6/dist-packages (from deeppavlov) (0.15.100)\n",
            "Requirement already satisfied: pandas==0.25.3 in /usr/local/lib/python3.6/dist-packages (from deeppavlov) (0.25.3)\n",
            "Requirement already satisfied: overrides==2.7.0 in /usr/local/lib/python3.6/dist-packages (from deeppavlov) (2.7.0)\n",
            "Requirement already satisfied: requests==2.22.0 in /usr/local/lib/python3.6/dist-packages (from deeppavlov) (2.22.0)\n",
            "Requirement already satisfied: pymorphy2==0.8 in /usr/local/lib/python3.6/dist-packages (from deeppavlov) (0.8)\n",
            "Requirement already satisfied: scikit-learn==0.21.2 in /usr/local/lib/python3.6/dist-packages (from deeppavlov) (0.21.2)\n",
            "Requirement already satisfied: filelock==3.0.12 in /usr/local/lib/python3.6/dist-packages (from deeppavlov) (3.0.12)\n",
            "Requirement already satisfied: pymorphy2-dicts-ru in /usr/local/lib/python3.6/dist-packages (from deeppavlov) (2.4.417127.4579844)\n",
            "Requirement already satisfied: pydantic==1.3 in /usr/local/lib/python3.6/dist-packages (from deeppavlov) (1.3)\n",
            "Requirement already satisfied: numpy==1.18.0 in /usr/local/lib/python3.6/dist-packages (from deeppavlov) (1.18.0)\n",
            "Requirement already satisfied: pyopenssl==19.1.0 in /usr/local/lib/python3.6/dist-packages (from deeppavlov) (19.1.0)\n",
            "Requirement already satisfied: tqdm==4.41.1 in /usr/local/lib/python3.6/dist-packages (from deeppavlov) (4.41.1)\n",
            "Requirement already satisfied: rusenttokenize==0.0.5 in /usr/local/lib/python3.6/dist-packages (from deeppavlov) (0.0.5)\n",
            "Requirement already satisfied: sacremoses==0.0.35 in /usr/local/lib/python3.6/dist-packages (from deeppavlov) (0.0.35)\n",
            "Requirement already satisfied: uvicorn==0.11.7 in /usr/local/lib/python3.6/dist-packages (from deeppavlov) (0.11.7)\n",
            "Requirement already satisfied: aio-pika==6.4.1 in /usr/local/lib/python3.6/dist-packages (from deeppavlov) (6.4.1)\n",
            "Requirement already satisfied: six in /usr/local/lib/python3.6/dist-packages (from pytelegrambotapi==3.6.7->deeppavlov) (1.15.0)\n",
            "Requirement already satisfied: starlette<=0.12.9,>=0.12.9 in /usr/local/lib/python3.6/dist-packages (from fastapi==0.47.1->deeppavlov) (0.12.9)\n",
            "Requirement already satisfied: python-dateutil>=2.6.1 in /usr/local/lib/python3.6/dist-packages (from pandas==0.25.3->deeppavlov) (2.8.1)\n",
            "Requirement already satisfied: urllib3!=1.25.0,!=1.25.1,<1.26,>=1.21.1 in /usr/local/lib/python3.6/dist-packages (from requests==2.22.0->deeppavlov) (1.24.3)\n",
            "Requirement already satisfied: idna<2.9,>=2.5 in /usr/local/lib/python3.6/dist-packages (from requests==2.22.0->deeppavlov) (2.8)\n",
            "Requirement already satisfied: chardet<3.1.0,>=3.0.2 in /usr/local/lib/python3.6/dist-packages (from requests==2.22.0->deeppavlov) (3.0.4)\n",
            "Requirement already satisfied: certifi>=2017.4.17 in /usr/local/lib/python3.6/dist-packages (from requests==2.22.0->deeppavlov) (2020.12.5)\n",
            "Requirement already satisfied: pymorphy2-dicts<3.0,>=2.4 in /usr/local/lib/python3.6/dist-packages (from pymorphy2==0.8->deeppavlov) (2.4.393442.3710985)\n",
            "Requirement already satisfied: dawg-python>=0.7 in /usr/local/lib/python3.6/dist-packages (from pymorphy2==0.8->deeppavlov) (0.7.2)\n",
            "Requirement already satisfied: docopt>=0.6 in /usr/local/lib/python3.6/dist-packages (from pymorphy2==0.8->deeppavlov) (0.6.2)\n",
            "Requirement already satisfied: joblib>=0.11 in /usr/local/lib/python3.6/dist-packages (from scikit-learn==0.21.2->deeppavlov) (1.0.0)\n",
            "Requirement already satisfied: dataclasses>=0.6; python_version < \"3.7\" in /usr/local/lib/python3.6/dist-packages (from pydantic==1.3->deeppavlov) (0.8)\n",
            "Requirement already satisfied: cryptography>=2.8 in /usr/local/lib/python3.6/dist-packages (from pyopenssl==19.1.0->deeppavlov) (3.4.3)\n",
            "Requirement already satisfied: h11<0.10,>=0.8 in /usr/local/lib/python3.6/dist-packages (from uvicorn==0.11.7->deeppavlov) (0.9.0)\n",
            "Requirement already satisfied: websockets==8.* in /usr/local/lib/python3.6/dist-packages (from uvicorn==0.11.7->deeppavlov) (8.1)\n",
            "Requirement already satisfied: httptools==0.1.*; sys_platform != \"win32\" and sys_platform != \"cygwin\" and platform_python_implementation != \"PyPy\" in /usr/local/lib/python3.6/dist-packages (from uvicorn==0.11.7->deeppavlov) (0.1.1)\n",
            "Requirement already satisfied: uvloop>=0.14.0; sys_platform != \"win32\" and sys_platform != \"cygwin\" and platform_python_implementation != \"PyPy\" in /usr/local/lib/python3.6/dist-packages (from uvicorn==0.11.7->deeppavlov) (0.14.0)\n",
            "Requirement already satisfied: yarl in /usr/local/lib/python3.6/dist-packages (from aio-pika==6.4.1->deeppavlov) (1.6.3)\n",
            "Requirement already satisfied: aiormq<4,>=3.2.0 in /usr/local/lib/python3.6/dist-packages (from aio-pika==6.4.1->deeppavlov) (3.3.1)\n",
            "Requirement already satisfied: cffi>=1.12 in /usr/local/lib/python3.6/dist-packages (from cryptography>=2.8->pyopenssl==19.1.0->deeppavlov) (1.14.4)\n",
            "Requirement already satisfied: typing-extensions>=3.7.4; python_version < \"3.8\" in /usr/local/lib/python3.6/dist-packages (from yarl->aio-pika==6.4.1->deeppavlov) (3.7.4.3)\n",
            "Requirement already satisfied: multidict>=4.0 in /usr/local/lib/python3.6/dist-packages (from yarl->aio-pika==6.4.1->deeppavlov) (5.1.0)\n",
            "Requirement already satisfied: pamqp==2.3.0 in /usr/local/lib/python3.6/dist-packages (from aiormq<4,>=3.2.0->aio-pika==6.4.1->deeppavlov) (2.3.0)\n",
            "Requirement already satisfied: pycparser in /usr/local/lib/python3.6/dist-packages (from cffi>=1.12->cryptography>=2.8->pyopenssl==19.1.0->deeppavlov) (2.20)\n",
            "2021-02-09 10:56:17.958 INFO in 'deeppavlov.core.common.file'['file'] at line 32: Interpreting 'squad_ru' as '/usr/local/lib/python3.6/dist-packages/deeppavlov/configs/squad/squad_ru.json'\n",
            "Requirement already satisfied: tensorflow==1.15.2 in /tensorflow-1.15.2/python3.6 (1.15.2)\n",
            "Requirement already satisfied: termcolor>=1.1.0 in /usr/local/lib/python3.6/dist-packages (from tensorflow==1.15.2) (1.1.0)\n",
            "Requirement already satisfied: six>=1.10.0 in /usr/local/lib/python3.6/dist-packages (from tensorflow==1.15.2) (1.15.0)\n",
            "Requirement already satisfied: gast==0.2.2 in /usr/local/lib/python3.6/dist-packages (from tensorflow==1.15.2) (0.2.2)\n",
            "Requirement already satisfied: google-pasta>=0.1.6 in /usr/local/lib/python3.6/dist-packages (from tensorflow==1.15.2) (0.2.0)\n",
            "Requirement already satisfied: wheel>=0.26; python_version >= \"3\" in /usr/local/lib/python3.6/dist-packages (from tensorflow==1.15.2) (0.36.2)\n",
            "Requirement already satisfied: absl-py>=0.7.0 in /usr/local/lib/python3.6/dist-packages (from tensorflow==1.15.2) (0.10.0)\n",
            "Requirement already satisfied: tensorboard<1.16.0,>=1.15.0 in /tensorflow-1.15.2/python3.6 (from tensorflow==1.15.2) (1.15.0)\n",
            "Requirement already satisfied: tensorflow-estimator==1.15.1 in /tensorflow-1.15.2/python3.6 (from tensorflow==1.15.2) (1.15.1)\n",
            "Requirement already satisfied: grpcio>=1.8.6 in /usr/local/lib/python3.6/dist-packages (from tensorflow==1.15.2) (1.32.0)\n",
            "Requirement already satisfied: opt-einsum>=2.3.2 in /usr/local/lib/python3.6/dist-packages (from tensorflow==1.15.2) (3.3.0)\n",
            "Requirement already satisfied: keras-applications>=1.0.8 in /tensorflow-1.15.2/python3.6 (from tensorflow==1.15.2) (1.0.8)\n",
            "Requirement already satisfied: wrapt>=1.11.1 in /usr/local/lib/python3.6/dist-packages (from tensorflow==1.15.2) (1.12.1)\n",
            "Requirement already satisfied: protobuf>=3.6.1 in /usr/local/lib/python3.6/dist-packages (from tensorflow==1.15.2) (3.12.4)\n",
            "Requirement already satisfied: keras-preprocessing>=1.0.5 in /usr/local/lib/python3.6/dist-packages (from tensorflow==1.15.2) (1.1.2)\n",
            "Requirement already satisfied: astor>=0.6.0 in /usr/local/lib/python3.6/dist-packages (from tensorflow==1.15.2) (0.8.1)\n",
            "Requirement already satisfied: numpy<2.0,>=1.16.0 in /usr/local/lib/python3.6/dist-packages (from tensorflow==1.15.2) (1.18.0)\n",
            "Requirement already satisfied: setuptools>=41.0.0 in /usr/local/lib/python3.6/dist-packages (from tensorboard<1.16.0,>=1.15.0->tensorflow==1.15.2) (53.0.0)\n",
            "Requirement already satisfied: werkzeug>=0.11.15 in /usr/local/lib/python3.6/dist-packages (from tensorboard<1.16.0,>=1.15.0->tensorflow==1.15.2) (1.0.1)\n",
            "Requirement already satisfied: markdown>=2.6.8 in /usr/local/lib/python3.6/dist-packages (from tensorboard<1.16.0,>=1.15.0->tensorflow==1.15.2) (3.3.3)\n",
            "Requirement already satisfied: h5py in /usr/local/lib/python3.6/dist-packages (from keras-applications>=1.0.8->tensorflow==1.15.2) (2.10.0)\n",
            "Requirement already satisfied: importlib-metadata; python_version < \"3.8\" in /usr/local/lib/python3.6/dist-packages (from markdown>=2.6.8->tensorboard<1.16.0,>=1.15.0->tensorflow==1.15.2) (3.4.0)\n",
            "Requirement already satisfied: zipp>=0.5 in /usr/local/lib/python3.6/dist-packages (from importlib-metadata; python_version < \"3.8\"->markdown>=2.6.8->tensorboard<1.16.0,>=1.15.0->tensorflow==1.15.2) (3.4.0)\n",
            "Requirement already satisfied: typing-extensions>=3.6.4; python_version < \"3.8\" in /usr/local/lib/python3.6/dist-packages (from importlib-metadata; python_version < \"3.8\"->markdown>=2.6.8->tensorboard<1.16.0,>=1.15.0->tensorflow==1.15.2) (3.7.4.3)\n"
          ],
          "name": "stdout"
        }
      ]
    },
    {
      "cell_type": "code",
      "metadata": {
        "id": "tTt2HDUnb80x",
        "colab": {
          "base_uri": "https://localhost:8080/"
        },
        "outputId": "c0067837-a936-4101-c481-a8cae1fba27d"
      },
      "source": [
        "# downloading the model\n",
        "from deeppavlov import build_model, configs\n",
        "\n",
        "model = build_model(configs.squad.squad_ru, download=True)\n"
      ],
      "execution_count": 3,
      "outputs": [
        {
          "output_type": "stream",
          "text": [
            "2021-02-09 10:56:56.970 INFO in 'deeppavlov.core.data.utils'['utils'] at line 94: Downloading from http://files.deeppavlov.ai/deeppavlov_data/squad_model_ru_1.4_cpu_compatible.tar.gz to /root/.deeppavlov/squad_model_ru_1.4_cpu_compatible.tar.gz\n",
            "100%|██████████| 533M/533M [07:07<00:00, 1.25MB/s]\n",
            "2021-02-09 11:04:04.724 INFO in 'deeppavlov.core.data.utils'['utils'] at line 268: Extracting /root/.deeppavlov/squad_model_ru_1.4_cpu_compatible.tar.gz archive into /root/.deeppavlov/models\n",
            "2021-02-09 11:04:14.541 INFO in 'deeppavlov.core.data.utils'['utils'] at line 94: Downloading from http://files.deeppavlov.ai/embeddings/ft_native_300_ru_wiki_lenta_nltk_word_tokenize-char.vec to /root/.deeppavlov/downloads/embeddings/ft_native_300_ru_wiki_lenta_nltk_word_tokenize-char.vec\n",
            "100%|██████████| 4.52M/4.52M [00:00<00:00, 5.55MB/s]\n",
            "2021-02-09 11:04:15.549 INFO in 'deeppavlov.core.data.utils'['utils'] at line 94: Downloading from http://files.deeppavlov.ai/embeddings/ft_native_300_ru_wiki_lenta_nltk_word_tokenize/ft_native_300_ru_wiki_lenta_nltk_word_tokenize.vec to /root/.deeppavlov/downloads/embeddings/ft_native_300_ru_wiki_lenta_nltk_word_tokenize.vec\n",
            "100%|██████████| 4.53G/4.53G [18:13<00:00, 4.14MB/s]\n",
            "[nltk_data] Downloading package punkt to /root/nltk_data...\n",
            "[nltk_data]   Unzipping tokenizers/punkt.zip.\n",
            "[nltk_data] Downloading package stopwords to /root/nltk_data...\n",
            "[nltk_data]   Unzipping corpora/stopwords.zip.\n",
            "[nltk_data] Downloading package perluniprops to /root/nltk_data...\n",
            "[nltk_data]   Unzipping misc/perluniprops.zip.\n",
            "[nltk_data] Downloading package nonbreaking_prefixes to\n",
            "[nltk_data]     /root/nltk_data...\n",
            "[nltk_data]   Unzipping corpora/nonbreaking_prefixes.zip.\n",
            "2021-02-09 11:22:33.292 INFO in 'deeppavlov.models.preprocessors.squad_preprocessor'['squad_preprocessor'] at line 310: SquadVocabEmbedder: loading saved tokens vocab from /root/.deeppavlov/models/squad_model_ru/emb/vocab_embedder.pckl\n",
            "2021-02-09 11:22:39.795 INFO in 'deeppavlov.models.preprocessors.squad_preprocessor'['squad_preprocessor'] at line 310: SquadVocabEmbedder: loading saved chars vocab from /root/.deeppavlov/models/squad_model_ru/emb/char_vocab_embedder.pckl\n"
          ],
          "name": "stderr"
        },
        {
          "output_type": "stream",
          "text": [
            "WARNING:tensorflow:From /usr/local/lib/python3.6/dist-packages/deeppavlov/core/models/tf_model.py:37: The name tf.Session is deprecated. Please use tf.compat.v1.Session instead.\n",
            "\n",
            "WARNING:tensorflow:From /usr/local/lib/python3.6/dist-packages/deeppavlov/core/models/tf_model.py:222: The name tf.placeholder is deprecated. Please use tf.compat.v1.placeholder instead.\n",
            "\n",
            "WARNING:tensorflow:From /usr/local/lib/python3.6/dist-packages/deeppavlov/core/models/tf_model.py:222: The name tf.train.Optimizer is deprecated. Please use tf.compat.v1.train.Optimizer instead.\n",
            "\n",
            "WARNING:tensorflow:From /usr/local/lib/python3.6/dist-packages/deeppavlov/core/models/tf_model.py:193: The name tf.train.AdadeltaOptimizer is deprecated. Please use tf.compat.v1.train.AdadeltaOptimizer instead.\n",
            "\n",
            "WARNING:tensorflow:From /usr/local/lib/python3.6/dist-packages/deeppavlov/core/common/check_gpu.py:29: The name tf.ConfigProto is deprecated. Please use tf.compat.v1.ConfigProto instead.\n",
            "\n",
            "WARNING:tensorflow:From /usr/local/lib/python3.6/dist-packages/deeppavlov/models/squad/squad.py:224: The name tf.placeholder_with_default is deprecated. Please use tf.compat.v1.placeholder_with_default instead.\n",
            "\n",
            "WARNING:tensorflow:From /usr/local/lib/python3.6/dist-packages/deeppavlov/models/squad/squad.py:102: The name tf.get_variable is deprecated. Please use tf.compat.v1.get_variable instead.\n",
            "\n",
            "WARNING:tensorflow:From /usr/local/lib/python3.6/dist-packages/deeppavlov/models/squad/squad.py:139: The name tf.variable_scope is deprecated. Please use tf.compat.v1.variable_scope instead.\n",
            "\n"
          ],
          "name": "stdout"
        },
        {
          "output_type": "stream",
          "text": [
            "2021-02-09 11:22:45.881 INFO in 'deeppavlov.core.layers.tf_layers'['tf_layers'] at line 619: \n",
            "Warning! tf.contrib.cudnn_rnn.CudnnCompatibleGRUCell is used. It is okay for inference mode, but if you train your model with this cell it could NOT be used with tf.contrib.cudnn_rnn.CudnnGRUCell later. \n"
          ],
          "name": "stderr"
        },
        {
          "output_type": "stream",
          "text": [
            "WARNING:tensorflow:\n",
            "The TensorFlow contrib module will not be included in TensorFlow 2.0.\n",
            "For more information, please see:\n",
            "  * https://github.com/tensorflow/community/blob/master/rfcs/20180907-contrib-sunset.md\n",
            "  * https://github.com/tensorflow/addons\n",
            "  * https://github.com/tensorflow/io (for I/O related ops)\n",
            "If you depend on functionality not listed there, please file an issue.\n",
            "\n",
            "WARNING:tensorflow:From /tensorflow-1.15.2/python3.6/tensorflow_core/contrib/cudnn_rnn/python/ops/cudnn_rnn_ops.py:122: GRUCell.__init__ (from tensorflow.python.ops.rnn_cell_impl) is deprecated and will be removed in a future version.\n",
            "Instructions for updating:\n",
            "This class is equivalent as tf.keras.layers.GRUCell, and will be replaced by that in Tensorflow 2.0.\n",
            "WARNING:tensorflow:From /usr/local/lib/python3.6/dist-packages/deeppavlov/core/layers/tf_layers.py:595: MultiRNNCell.__init__ (from tensorflow.python.ops.rnn_cell_impl) is deprecated and will be removed in a future version.\n",
            "Instructions for updating:\n",
            "This class is equivalent as tf.keras.layers.StackedRNNCells, and will be replaced by that in Tensorflow 2.0.\n",
            "WARNING:tensorflow:From /usr/local/lib/python3.6/dist-packages/deeppavlov/core/layers/tf_layers.py:600: dynamic_rnn (from tensorflow.python.ops.rnn) is deprecated and will be removed in a future version.\n",
            "Instructions for updating:\n",
            "Please use `keras.layers.RNN(cell)`, which is equivalent to this API\n",
            "WARNING:tensorflow:From /tensorflow-1.15.2/python3.6/tensorflow_core/contrib/cudnn_rnn/python/ops/cudnn_rnn_ops.py:133: Layer.add_variable (from tensorflow.python.keras.engine.base_layer) is deprecated and will be removed in a future version.\n",
            "Instructions for updating:\n",
            "Please use `layer.add_weight` method instead.\n",
            "WARNING:tensorflow:From /tensorflow-1.15.2/python3.6/tensorflow_core/contrib/cudnn_rnn/python/ops/cudnn_rnn_ops.py:139: calling Constant.__init__ (from tensorflow.python.ops.init_ops) with dtype is deprecated and will be removed in a future version.\n",
            "Instructions for updating:\n",
            "Call initializer instance with the dtype argument instead of passing it to the constructor\n",
            "WARNING:tensorflow:From /tensorflow-1.15.2/python3.6/tensorflow_core/contrib/cudnn_rnn/python/ops/cudnn_rnn_ops.py:155: calling Zeros.__init__ (from tensorflow.python.ops.init_ops) with dtype is deprecated and will be removed in a future version.\n",
            "Instructions for updating:\n",
            "Call initializer instance with the dtype argument instead of passing it to the constructor\n",
            "WARNING:tensorflow:From /usr/local/lib/python3.6/dist-packages/deeppavlov/core/layers/tf_layers.py:812: calling reverse_sequence (from tensorflow.python.ops.array_ops) with seq_dim is deprecated and will be removed in a future version.\n",
            "Instructions for updating:\n",
            "seq_dim is deprecated, use seq_axis instead\n",
            "WARNING:tensorflow:From /tensorflow-1.15.2/python3.6/tensorflow_core/python/util/deprecation.py:507: calling reverse_sequence (from tensorflow.python.ops.array_ops) with batch_dim is deprecated and will be removed in a future version.\n",
            "Instructions for updating:\n",
            "batch_dim is deprecated, use batch_axis instead\n"
          ],
          "name": "stdout"
        },
        {
          "output_type": "stream",
          "text": [
            "2021-02-09 11:22:48.131 INFO in 'deeppavlov.core.layers.tf_layers'['tf_layers'] at line 619: \n",
            "Warning! tf.contrib.cudnn_rnn.CudnnCompatibleGRUCell is used. It is okay for inference mode, but if you train your model with this cell it could NOT be used with tf.contrib.cudnn_rnn.CudnnGRUCell later. \n",
            "2021-02-09 11:22:48.281 INFO in 'deeppavlov.core.layers.tf_layers'['tf_layers'] at line 619: \n",
            "Warning! tf.contrib.cudnn_rnn.CudnnCompatibleGRUCell is used. It is okay for inference mode, but if you train your model with this cell it could NOT be used with tf.contrib.cudnn_rnn.CudnnGRUCell later. \n",
            "2021-02-09 11:22:48.383 INFO in 'deeppavlov.core.layers.tf_layers'['tf_layers'] at line 619: \n",
            "Warning! tf.contrib.cudnn_rnn.CudnnCompatibleGRUCell is used. It is okay for inference mode, but if you train your model with this cell it could NOT be used with tf.contrib.cudnn_rnn.CudnnGRUCell later. \n"
          ],
          "name": "stderr"
        },
        {
          "output_type": "stream",
          "text": [
            "WARNING:tensorflow:From /usr/local/lib/python3.6/dist-packages/deeppavlov/models/squad/utils.py:87: calling dropout (from tensorflow.python.ops.nn_ops) with keep_prob is deprecated and will be removed in a future version.\n",
            "Instructions for updating:\n",
            "Please use `rate` instead of `keep_prob`. Rate should be set to `rate = 1 - keep_prob`.\n",
            "WARNING:tensorflow:From /usr/local/lib/python3.6/dist-packages/deeppavlov/models/squad/utils.py:101: The name tf.AUTO_REUSE is deprecated. Please use tf.compat.v1.AUTO_REUSE instead.\n",
            "\n",
            "WARNING:tensorflow:From /usr/local/lib/python3.6/dist-packages/deeppavlov/models/squad/utils.py:171: dense (from tensorflow.python.layers.core) is deprecated and will be removed in a future version.\n",
            "Instructions for updating:\n",
            "Use keras.layers.Dense instead.\n",
            "WARNING:tensorflow:From /tensorflow-1.15.2/python3.6/tensorflow_core/python/layers/core.py:187: Layer.apply (from tensorflow.python.keras.engine.base_layer) is deprecated and will be removed in a future version.\n",
            "Instructions for updating:\n",
            "Please use `layer.__call__` method instead.\n",
            "WARNING:tensorflow:From /usr/local/lib/python3.6/dist-packages/deeppavlov/models/squad/utils.py:139: The name tf.get_variable_scope is deprecated. Please use tf.compat.v1.get_variable_scope instead.\n",
            "\n",
            "WARNING:tensorflow:From /usr/local/lib/python3.6/dist-packages/deeppavlov/models/squad/squad.py:203: The name tf.matrix_band_part is deprecated. Please use tf.linalg.band_part instead.\n",
            "\n",
            "WARNING:tensorflow:From /usr/local/lib/python3.6/dist-packages/deeppavlov/models/squad/squad.py:212: softmax_cross_entropy_with_logits (from tensorflow.python.ops.nn_ops) is deprecated and will be removed in a future version.\n",
            "Instructions for updating:\n",
            "\n",
            "Future major versions of TensorFlow will allow gradients to flow\n",
            "into the labels input on backprop by default.\n",
            "\n",
            "See `tf.nn.softmax_cross_entropy_with_logits_v2`.\n",
            "\n",
            "WARNING:tensorflow:From /usr/local/lib/python3.6/dist-packages/deeppavlov/core/models/tf_model.py:232: The name tf.train.AdamOptimizer is deprecated. Please use tf.compat.v1.train.AdamOptimizer instead.\n",
            "\n",
            "WARNING:tensorflow:From /usr/local/lib/python3.6/dist-packages/deeppavlov/core/models/tf_model.py:127: The name tf.get_collection is deprecated. Please use tf.compat.v1.get_collection instead.\n",
            "\n",
            "WARNING:tensorflow:From /usr/local/lib/python3.6/dist-packages/deeppavlov/core/models/tf_model.py:127: The name tf.GraphKeys is deprecated. Please use tf.compat.v1.GraphKeys instead.\n",
            "\n",
            "WARNING:tensorflow:From /tensorflow-1.15.2/python3.6/tensorflow_core/python/ops/clip_ops.py:172: where (from tensorflow.python.ops.array_ops) is deprecated and will be removed in a future version.\n",
            "Instructions for updating:\n",
            "Use tf.where in 2.0, which has the same broadcast rule as np.where\n",
            "WARNING:tensorflow:From /usr/local/lib/python3.6/dist-packages/deeppavlov/models/squad/squad.py:93: The name tf.global_variables_initializer is deprecated. Please use tf.compat.v1.global_variables_initializer instead.\n",
            "\n",
            "WARNING:tensorflow:From /usr/local/lib/python3.6/dist-packages/deeppavlov/core/models/tf_model.py:50: checkpoint_exists (from tensorflow.python.training.checkpoint_management) is deprecated and will be removed in a future version.\n",
            "Instructions for updating:\n",
            "Use standard file APIs to check for files with this prefix.\n"
          ],
          "name": "stdout"
        },
        {
          "output_type": "stream",
          "text": [
            "2021-02-09 11:23:01.437 INFO in 'deeppavlov.core.models.tf_model'['tf_model'] at line 51: [loading model from /root/.deeppavlov/models/squad_model_ru/model]\n"
          ],
          "name": "stderr"
        },
        {
          "output_type": "stream",
          "text": [
            "WARNING:tensorflow:From /usr/local/lib/python3.6/dist-packages/deeppavlov/core/models/tf_model.py:54: The name tf.train.Saver is deprecated. Please use tf.compat.v1.train.Saver instead.\n",
            "\n",
            "INFO:tensorflow:Restoring parameters from /root/.deeppavlov/models/squad_model_ru/model\n"
          ],
          "name": "stdout"
        }
      ]
    },
    {
      "cell_type": "code",
      "metadata": {
        "id": "eCnFf2eec6RS",
        "colab": {
          "base_uri": "https://localhost:8080/"
        },
        "outputId": "fa1d5202-7553-49c4-9144-b97ce1e3eb2d"
      },
      "source": [
        "# using the pretrained model\n",
        "model(['DeepPavlov - это библиотека для обработки естественного языка и диалоговых систем.'], ['Что такое DeepPavlov?'])"
      ],
      "execution_count": 4,
      "outputs": [
        {
          "output_type": "execute_result",
          "data": {
            "text/plain": [
              "[['это библиотека для обработки естественного языка и диалоговых систем'],\n",
              " [13],\n",
              " [11191.078125]]"
            ]
          },
          "metadata": {
            "tags": []
          },
          "execution_count": 4
        }
      ]
    },
    {
      "cell_type": "markdown",
      "metadata": {
        "id": "MS8Yh6GggV1Z"
      },
      "source": [
        "Для использования модели необходимо передать вопрос и соответствующий текстовый абзац (где найти ответ)\n",
        "\n",
        "Вы также можете передать несколько вопросов, тогда индекс каждого вопроса должен соответствовать индексу абзаца:\n"
      ]
    },
    {
      "cell_type": "code",
      "metadata": {
        "id": "jsX9uU-6f0KL",
        "colab": {
          "base_uri": "https://localhost:8080/"
        },
        "outputId": "7738c0ec-795c-460d-b041-4e7e8488a70f"
      },
      "source": [
        "question = 'Что такое нейронная сеть?'\n",
        "text = '''Искусственные нейронные сети или коннекционистские системы - это вычислительные системы, смутно вдохновленные биологическими нейронными сетями, составляющими мозг животных. [1]\n",
        "\n",
        "Структуры данных и функциональность нейронных сетей предназначены для моделирования ассоциативной памяти. Нейронные сети обучаются на примерах обработки, каждый из которых содержит известные «вход» и «результат», образуя между ними взвешенные по вероятности ассоциации, которые хранятся в структуре данных самой сети. («Вход» здесь более точно называется входным набором, поскольку он обычно состоит из нескольких независимых переменных, а не одного значения.) Таким образом, «обучение» нейронной сети из данного примера - это разница в состоянии сети до и после обработки примера. После предоставления достаточного количества примеров сеть становится способной предсказывать результаты на основе входных данных, используя ассоциации, построенные на основе набора примеров. Если в нейронную сеть предоставляется петля обратной связи о точности ее прогнозов, она продолжает уточнять свои связи, что приводит к постоянно растущему уровню точности. Короче говоря, существует прямая зависимость между количеством и разнообразием примеров, обрабатываемых нейронной сетью, и точностью ее прогнозов. Вот почему нейронная сеть со временем становится «лучше». Что интересно в нейронных сетях, так это то, что, поскольку они неизбирательны в том, как они формируют ассоциации, они могут образовывать неожиданные ассоциации и выявлять отношения и зависимости, которые ранее не были известны '''\n",
        "\n",
        "model([text],[question])"
      ],
      "execution_count": 5,
      "outputs": [
        {
          "output_type": "execute_result",
          "data": {
            "text/plain": [
              "[['разница в состоянии сети до и после обработки примера'],\n",
              " [705],\n",
              " [757.992431640625]]"
            ]
          },
          "metadata": {
            "tags": []
          },
          "execution_count": 5
        }
      ]
    },
    {
      "cell_type": "markdown",
      "metadata": {
        "id": "7W4Y4mzRgvZq"
      },
      "source": [
        "Кроме ответа, вы также получаете начало спана ответа в тексте"
      ]
    },
    {
      "cell_type": "markdown",
      "metadata": {
        "id": "bQ4RgSHzb9Wk"
      },
      "source": [
        "# Training the model "
      ]
    },
    {
      "cell_type": "markdown",
      "metadata": {
        "id": "KcNMbmk8nJVo"
      },
      "source": [
        "**Important:** training with default config requires about 10Gb on GPU. \n",
        "Run following command to train the model:\n",
        "\n"
      ]
    },
    {
      "cell_type": "markdown",
      "metadata": {
        "id": "VOOqzGmdriiQ"
      },
      "source": [
        "Скачаем для начала обучающие данные и тестовые с платформы: https://onti2020.ai-academy.ru/task/ "
      ]
    },
    {
      "cell_type": "code",
      "metadata": {
        "colab": {
          "base_uri": "https://localhost:8080/"
        },
        "id": "jE4iH-Uormwe",
        "outputId": "12450f23-a60e-426b-d357-28dc3c62ed89"
      },
      "source": [
        "!wget https://onti2020.ai-academy.ru/task/sbersquad_train.json"
      ],
      "execution_count": 6,
      "outputs": [
        {
          "output_type": "stream",
          "text": [
            "--2021-02-09 12:05:33--  https://onti2020.ai-academy.ru/task/sbersquad_train.json\n",
            "Resolving onti2020.ai-academy.ru (onti2020.ai-academy.ru)... 213.159.215.214\n",
            "Connecting to onti2020.ai-academy.ru (onti2020.ai-academy.ru)|213.159.215.214|:443... connected.\n",
            "HTTP request sent, awaiting response... 200 OK\n",
            "Length: 37803823 (36M) [application/json]\n",
            "Saving to: ‘sbersquad_train.json’\n",
            "\n",
            "sbersquad_train.jso 100%[===================>]  36.05M  13.3MB/s    in 2.7s    \n",
            "\n",
            "2021-02-09 12:05:36 (13.3 MB/s) - ‘sbersquad_train.json’ saved [37803823/37803823]\n",
            "\n"
          ],
          "name": "stdout"
        }
      ]
    },
    {
      "cell_type": "code",
      "metadata": {
        "colab": {
          "base_uri": "https://localhost:8080/"
        },
        "id": "qrUnpE52rrsp",
        "outputId": "01ae26ff-1bf9-41de-a5c5-8d6fbd52121d"
      },
      "source": [
        "!wget https://onti2020.ai-academy.ru/task/train_test_sbersquad.zip"
      ],
      "execution_count": 7,
      "outputs": [
        {
          "output_type": "stream",
          "text": [
            "--2021-02-09 12:06:02--  https://onti2020.ai-academy.ru/task/train_test_sbersquad.zip\n",
            "Resolving onti2020.ai-academy.ru (onti2020.ai-academy.ru)... 213.159.215.214\n",
            "Connecting to onti2020.ai-academy.ru (onti2020.ai-academy.ru)|213.159.215.214|:443... connected.\n",
            "HTTP request sent, awaiting response... 200 OK\n",
            "Length: 10431266 (9.9M) [application/zip]\n",
            "Saving to: ‘train_test_sbersquad.zip’\n",
            "\n",
            "train_test_sbersqua 100%[===================>]   9.95M  9.42MB/s    in 1.1s    \n",
            "\n",
            "2021-02-09 12:06:04 (9.42 MB/s) - ‘train_test_sbersquad.zip’ saved [10431266/10431266]\n",
            "\n"
          ],
          "name": "stdout"
        }
      ]
    },
    {
      "cell_type": "code",
      "metadata": {
        "colab": {
          "base_uri": "https://localhost:8080/"
        },
        "id": "O1N55Auq2MbY",
        "outputId": "f1723c37-2c66-42e2-8328-f71e61189dfa"
      },
      "source": [
        "!wget https://onti2020.ai-academy.ru/task/sample_submission_file_outofcomp.json"
      ],
      "execution_count": 18,
      "outputs": [
        {
          "output_type": "stream",
          "text": [
            "--2021-02-09 12:51:37--  https://onti2020.ai-academy.ru/task/sample_submission_file_outofcomp.json\n",
            "Resolving onti2020.ai-academy.ru (onti2020.ai-academy.ru)... 213.159.215.214\n",
            "Connecting to onti2020.ai-academy.ru (onti2020.ai-academy.ru)|213.159.215.214|:443... connected.\n",
            "HTTP request sent, awaiting response... 200 OK\n",
            "Length: 2327062 (2.2M) [application/json]\n",
            "Saving to: ‘sample_submission_file_outofcomp.json’\n",
            "\n",
            "sample_submission_f 100%[===================>]   2.22M  6.57MB/s    in 0.3s    \n",
            "\n",
            "2021-02-09 12:51:38 (6.57 MB/s) - ‘sample_submission_file_outofcomp.json’ saved [2327062/2327062]\n",
            "\n"
          ],
          "name": "stdout"
        }
      ]
    },
    {
      "cell_type": "code",
      "metadata": {
        "colab": {
          "base_uri": "https://localhost:8080/"
        },
        "id": "x52NyEcnr8GB",
        "outputId": "06f5c02d-2324-4505-a811-988578f70800"
      },
      "source": [
        "!ls"
      ],
      "execution_count": 10,
      "outputs": [
        {
          "output_type": "stream",
          "text": [
            " __MACOSX      sbersquad_train.json   train_test_sbersquad.zip\n",
            " sample_data  'train_test copy'\n"
          ],
          "name": "stdout"
        }
      ]
    },
    {
      "cell_type": "code",
      "metadata": {
        "colab": {
          "base_uri": "https://localhost:8080/"
        },
        "id": "jYkCW48mr-x4",
        "outputId": "a9494e5a-cac4-42bc-baa2-65907bd3d6c0"
      },
      "source": [
        "!unzip  train_test_sbersquad.zip"
      ],
      "execution_count": 9,
      "outputs": [
        {
          "output_type": "stream",
          "text": [
            "Archive:  train_test_sbersquad.zip\n",
            "   creating: train_test copy/\n",
            "  inflating: __MACOSX/._train_test copy  \n",
            "  inflating: train_test copy/sbersquad_test.json  \n",
            "  inflating: __MACOSX/train_test copy/._sbersquad_test.json  \n",
            "  inflating: train_test copy/sbersquad_train.json  \n",
            "  inflating: __MACOSX/train_test copy/._sbersquad_train.json  \n"
          ],
          "name": "stdout"
        }
      ]
    },
    {
      "cell_type": "code",
      "metadata": {
        "colab": {
          "base_uri": "https://localhost:8080/"
        },
        "id": "geiiCdSHsHCw",
        "outputId": "a6befa74-ef12-4863-a2f2-e2b2ff9977c4"
      },
      "source": [
        "!ls \"./train_test copy\""
      ],
      "execution_count": 12,
      "outputs": [
        {
          "output_type": "stream",
          "text": [
            "sbersquad_test.json  sbersquad_train.json\n"
          ],
          "name": "stdout"
        }
      ]
    },
    {
      "cell_type": "code",
      "metadata": {
        "id": "KJ_ZcQ9M1JcN"
      },
      "source": [
        "import json\n",
        "\n",
        "test = json.load(open('./train_test copy/sbersquad_test.json', 'r'))"
      ],
      "execution_count": 13,
      "outputs": []
    },
    {
      "cell_type": "code",
      "metadata": {
        "colab": {
          "base_uri": "https://localhost:8080/"
        },
        "id": "zzA8X9Ua1ned",
        "outputId": "20b3344a-9aa4-4251-f71e-5573e1287dff"
      },
      "source": [
        "test.keys()"
      ],
      "execution_count": 16,
      "outputs": [
        {
          "output_type": "execute_result",
          "data": {
            "text/plain": [
              "dict_keys(['paragraphs'])"
            ]
          },
          "metadata": {
            "tags": []
          },
          "execution_count": 16
        }
      ]
    },
    {
      "cell_type": "code",
      "metadata": {
        "colab": {
          "base_uri": "https://localhost:8080/"
        },
        "id": "_3CqpM5b13Oo",
        "outputId": "e667b3e5-2902-493f-daa1-2872c4a80264"
      },
      "source": [
        "test['paragraphs'][0]"
      ],
      "execution_count": 25,
      "outputs": [
        {
          "output_type": "execute_result",
          "data": {
            "text/plain": [
              "{'context': 'К 1960-м годам жилищное строительство распространилось на район восточнее Батарейной горы, ранее застроенный, преимущественно, малоэтажными домами, значительная часть которых была разрушена в ходе войны. Застройка шла по типовым проектам жилых и общественных зданий, город приобретал советский облик, свойственный большинству новых районов в городах СССР. Меняется структура транспорта: на смену закрытому в 1957 году трамваю приходит автобус, а паровозы с 1969 года вытесняются электропоездами. Прежде главный двигатель выборгской экономики — Сайменский канал — вновь начал работу только в 1968 году. К 1970 году численность населения Выборга достигла 65 тыс. человек, что всё ещё было ниже довоенного уровня.',\n",
              " 'qas': [{'answers': [],\n",
              "   'id': '8ac1590e97dd2d541eba44eb3bcd0eb15e9b9227',\n",
              "   'question': 'Какой облик, свойственный большинству новых районов в городах СССР, приобретал город, когда застройка шла по типовым проектам жилых и общественных зданий?'},\n",
              "  {'answers': [],\n",
              "   'id': '1deeaf4e32ca8c547e802eb8ce5b99f252d2645a',\n",
              "   'question': 'На какой район, ранее застроенный, преимущественно, малоэтажными домами, значительная часть которых была разрушена в ходе войны, к 1960-м годам распространилось жилищное строительство?'},\n",
              "  {'answers': [],\n",
              "   'id': 'f1f9b0b058e2dfdb2eebf165d3cb27bd250db684',\n",
              "   'question': 'К каким годам жилищное строительство распространилось на район восточнее Батарейной горы, ранее застроенный, преимущественно, малоэтажными домами, значительная часть которых была разрушена в ходе войны?'},\n",
              "  {'answers': [],\n",
              "   'id': '1a6108412c10916226599c853668a2cb37351d31',\n",
              "   'question': 'К каким годам жилищное строительство распространилось на район восточнее Батарейной горы?'},\n",
              "  {'answers': [],\n",
              "   'id': '59d328a25568dec9042cf2da603e576f383f6268',\n",
              "   'question': 'Какой облик приобретал город?'},\n",
              "  {'answers': [],\n",
              "   'id': 'ce7158743b30ee81d4a96ea11492e58ea151c0a1',\n",
              "   'question': 'На какой район распространилось жилищное строительство к 1960-м годам?'},\n",
              "  {'answers': [],\n",
              "   'id': '3867c985e2d712aee76630ebce6edadd8e9ffa55',\n",
              "   'question': 'К какому году численность населения Выборга достигла 65 тыс. человек?'},\n",
              "  {'answers': [],\n",
              "   'id': 'a6c32f5a67aa3871487d828e8c65a9cc000f4f8d',\n",
              "   'question': 'Какой вид транспорта приходит на смену закрытому в 1957 году трамваю?'},\n",
              "  {'answers': [],\n",
              "   'id': '7adbb4281fa541840b4bf53cd5ce951da13e1e20',\n",
              "   'question': 'По каким проектам шла застройка?'}]}"
            ]
          },
          "metadata": {
            "tags": []
          },
          "execution_count": 25
        }
      ]
    },
    {
      "cell_type": "code",
      "metadata": {
        "id": "j5GXFUgf1nls"
      },
      "source": [
        "train = json.load(open('./train_test copy/sbersquad_train.json', 'r'))"
      ],
      "execution_count": 17,
      "outputs": []
    },
    {
      "cell_type": "code",
      "metadata": {
        "id": "P_wnz7_a2Ttf"
      },
      "source": [
        "sample = json.load(open('./sample_submission_file_outofcomp.json', 'r'))"
      ],
      "execution_count": 19,
      "outputs": []
    },
    {
      "cell_type": "code",
      "metadata": {
        "colab": {
          "base_uri": "https://localhost:8080/",
          "height": 35
        },
        "id": "8yDPLajq2amL",
        "outputId": "00def317-4a40-4674-d62f-018677d104bd"
      },
      "source": [
        "sample['00036da7f977b03dc4cbef385809a1312552a41b']"
      ],
      "execution_count": 23,
      "outputs": [
        {
          "output_type": "execute_result",
          "data": {
            "application/vnd.google.colaboratory.intrinsic+json": {
              "type": "string"
            },
            "text/plain": [
              "'что акционерное общество работников'"
            ]
          },
          "metadata": {
            "tags": []
          },
          "execution_count": 23
        }
      ]
    },
    {
      "cell_type": "code",
      "metadata": {
        "id": "fK8upn5m205r"
      },
      "source": [
        "def make_answer(context, question):\n",
        "  results = model([context],[question])\n",
        "  return results[0][0]"
      ],
      "execution_count": 26,
      "outputs": []
    },
    {
      "cell_type": "code",
      "metadata": {
        "colab": {
          "base_uri": "https://localhost:8080/",
          "height": 35
        },
        "id": "eikp5c3l21PA",
        "outputId": "43188b2d-857c-4438-aafb-c4c95b50841e"
      },
      "source": [
        "make_answer(test['paragraphs'][0]['context'], test['paragraphs'][0]['qas'][0]['question'])"
      ],
      "execution_count": 27,
      "outputs": [
        {
          "output_type": "execute_result",
          "data": {
            "application/vnd.google.colaboratory.intrinsic+json": {
              "type": "string"
            },
            "text/plain": [
              "'советский'"
            ]
          },
          "metadata": {
            "tags": []
          },
          "execution_count": 27
        }
      ]
    },
    {
      "cell_type": "code",
      "metadata": {
        "colab": {
          "base_uri": "https://localhost:8080/"
        },
        "id": "vzqFTlXy3kBo",
        "outputId": "d7105b8d-e87f-45bd-c3a4-5a8887b3ecfb"
      },
      "source": [
        "from tqdm import tqdm\n",
        "\n",
        "new_sample = {}\n",
        "for i in tqdm(range(len(test['paragraphs']))):\n",
        "  context = test['paragraphs'][i]['context']\n",
        "  for j in range(len(test['paragraphs'][i]['qas'])):\n",
        "    a_id = test['paragraphs'][i]['qas'][j]['id']\n",
        "    question = test['paragraphs'][i]['qas'][j]['question']\n",
        "    answer = make_answer(context, question)\n",
        "    new_sample[a_id] = answer\n"
      ],
      "execution_count": null,
      "outputs": [
        {
          "output_type": "stream",
          "text": [
            " 21%|██        | 919/4439 [09:22<23:47,  2.47it/s]"
          ],
          "name": "stderr"
        }
      ]
    },
    {
      "cell_type": "code",
      "metadata": {
        "id": "vgxKKs1A6IAD"
      },
      "source": [
        "json.dump(open('my_submission.json', 'w'))"
      ],
      "execution_count": null,
      "outputs": []
    },
    {
      "cell_type": "code",
      "metadata": {
        "id": "y9EhG_463Rrq"
      },
      "source": [
        "#http://docs.deeppavlov.ai/en/master/intro/quick_start.html"
      ],
      "execution_count": null,
      "outputs": []
    },
    {
      "cell_type": "code",
      "metadata": {
        "id": "7Q0Oge4eoPEj"
      },
      "source": [
        "!python -m deeppavlov train deeppavlov/configs/squad/squad_ru.json"
      ],
      "execution_count": null,
      "outputs": []
    },
    {
      "cell_type": "markdown",
      "metadata": {
        "id": "HPhA4kiQew16"
      },
      "source": [
        "To train on your own data, you need to modify dataset reader path in the train section doc. The data format is specified in the corresponding model doc page.\n",
        "\n",
        "http://docs.deeppavlov.ai/en/master/intro/configuration.html#Train-config"
      ]
    },
    {
      "cell_type": "code",
      "metadata": {
        "id": "rE5UlApHev-Q"
      },
      "source": [
        ""
      ],
      "execution_count": null,
      "outputs": []
    },
    {
      "cell_type": "code",
      "metadata": {
        "id": "Bl4yCS-Hetu1"
      },
      "source": [
        ""
      ],
      "execution_count": null,
      "outputs": []
    }
  ]
}